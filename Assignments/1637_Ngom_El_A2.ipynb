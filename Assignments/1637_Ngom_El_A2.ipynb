{
 "cells": [
  {
   "cell_type": "code",
   "execution_count": 153,
   "metadata": {
    "collapsed": false
   },
   "outputs": [],
   "source": [
    "import numpy as np\n",
    "import matplotlib.pyplot as plt\n",
    "%matplotlib inline"
   ]
  },
  {
   "cell_type": "markdown",
   "metadata": {},
   "source": [
    "<h1>Model Evaluation and Selection</h1>\n",
    "\n",
    "<p>In this assignment we will introduce some techniques to evaluate the quality of a method and how to select good parameter values.</p>\n",
    "\n",
    "<p>We will be using the scikit built-in breast_cancer data set. It is binary classification problem where breast masses are classified as malignin (equal 0) or benign (equal 1).</p>"
   ]
  },
  {
   "cell_type": "code",
   "execution_count": 154,
   "metadata": {
    "collapsed": false
   },
   "outputs": [
    {
     "data": {
      "text/plain": [
       "['target_names', 'data', 'target', 'DESCR', 'feature_names']"
      ]
     },
     "execution_count": 154,
     "metadata": {},
     "output_type": "execute_result"
    }
   ],
   "source": [
    "from sklearn.datasets import load_breast_cancer\n",
    "dataset = load_breast_cancer()\n",
    "\n",
    "data = dataset.data\n",
    "target = dataset.target\n",
    "dataset.keys()\n",
    "### Find how many features we have and their names\n",
    "### The columns 10 to 19 are measurements errors and we can drop them without affecting much the work done here\n",
    "### Remove the columns 10 to 19 in the data"
   ]
  },
  {
   "cell_type": "code",
   "execution_count": 155,
   "metadata": {
    "collapsed": false
   },
   "outputs": [
    {
     "data": {
      "text/plain": [
       "(569, 30)"
      ]
     },
     "execution_count": 155,
     "metadata": {},
     "output_type": "execute_result"
    }
   ],
   "source": [
    "np.shape(data)"
   ]
  },
  {
   "cell_type": "code",
   "execution_count": 156,
   "metadata": {
    "collapsed": false
   },
   "outputs": [
    {
     "data": {
      "text/plain": [
       "array(['mean radius', 'mean texture', 'mean perimeter', 'mean area',\n",
       "       'mean smoothness', 'mean compactness', 'mean concavity',\n",
       "       'mean concave points', 'mean symmetry', 'mean fractal dimension',\n",
       "       'radius error', 'texture error', 'perimeter error', 'area error',\n",
       "       'smoothness error', 'compactness error', 'concavity error',\n",
       "       'concave points error', 'symmetry error', 'fractal dimension error',\n",
       "       'worst radius', 'worst texture', 'worst perimeter', 'worst area',\n",
       "       'worst smoothness', 'worst compactness', 'worst concavity',\n",
       "       'worst concave points', 'worst symmetry', 'worst fractal dimension'], \n",
       "      dtype='|S23')"
      ]
     },
     "execution_count": 156,
     "metadata": {},
     "output_type": "execute_result"
    }
   ],
   "source": [
    "dataset.feature_names"
   ]
  },
  {
   "cell_type": "code",
   "execution_count": 157,
   "metadata": {
    "collapsed": false
   },
   "outputs": [
    {
     "data": {
      "text/plain": [
       "30"
      ]
     },
     "execution_count": 157,
     "metadata": {},
     "output_type": "execute_result"
    }
   ],
   "source": [
    "np.shape(dataset.feature_names)[0]"
   ]
  },
  {
   "cell_type": "code",
   "execution_count": 158,
   "metadata": {
    "collapsed": false
   },
   "outputs": [
    {
     "data": {
      "text/plain": [
       "(569, 20)"
      ]
     },
     "execution_count": 158,
     "metadata": {},
     "output_type": "execute_result"
    }
   ],
   "source": [
    "data_clean = np.delete(data,(10,11,12,13,14,15,16,17,18,19),axis=1)\n",
    "data_clean.shape"
   ]
  },
  {
   "cell_type": "code",
   "execution_count": 159,
   "metadata": {
    "collapsed": true
   },
   "outputs": [],
   "source": [
    "from sklearn.preprocessing import scale\n",
    "data = scale(data)"
   ]
  },
  {
   "cell_type": "code",
   "execution_count": 160,
   "metadata": {
    "collapsed": false
   },
   "outputs": [
    {
     "data": {
      "text/plain": [
       "array([[  1.79900000e+01,   1.03800000e+01,   1.22800000e+02, ...,\n",
       "          2.65400000e-01,   4.60100000e-01,   1.18900000e-01],\n",
       "       [  2.05700000e+01,   1.77700000e+01,   1.32900000e+02, ...,\n",
       "          1.86000000e-01,   2.75000000e-01,   8.90200000e-02],\n",
       "       [  1.96900000e+01,   2.12500000e+01,   1.30000000e+02, ...,\n",
       "          2.43000000e-01,   3.61300000e-01,   8.75800000e-02],\n",
       "       ..., \n",
       "       [  1.66000000e+01,   2.80800000e+01,   1.08300000e+02, ...,\n",
       "          1.41800000e-01,   2.21800000e-01,   7.82000000e-02],\n",
       "       [  2.06000000e+01,   2.93300000e+01,   1.40100000e+02, ...,\n",
       "          2.65000000e-01,   4.08700000e-01,   1.24000000e-01],\n",
       "       [  7.76000000e+00,   2.45400000e+01,   4.79200000e+01, ...,\n",
       "          0.00000000e+00,   2.87100000e-01,   7.03900000e-02]])"
      ]
     },
     "execution_count": 160,
     "metadata": {},
     "output_type": "execute_result"
    }
   ],
   "source": [
    "data_clean "
   ]
  },
  {
   "cell_type": "markdown",
   "metadata": {},
   "source": [
    "<h2>Example on a Single Decision Tree</h2>\n",
    "\n",
    "<p>In this section we will introduce evaluation and paramtere selection techniques on a single decision tree.</p>\n",
    "\n",
    "<h4>Simple Evaluation</h4>\n",
    "<p>Evaluating the accuracy of a method can naively be done by splitting the data set in a training set and a test set.\n",
    "We train our classifier on the training set (obviously) and we evaluate the accuracy on the test set.<br>\n",
    "In scikit this is easily done by using the <i>.score()</i> functions of the classifier.</p>\n"
   ]
  },
  {
   "cell_type": "code",
   "execution_count": 161,
   "metadata": {
    "collapsed": false
   },
   "outputs": [
    {
     "data": {
      "text/plain": [
       "((398, 30), (171, 30))"
      ]
     },
     "execution_count": 161,
     "metadata": {},
     "output_type": "execute_result"
    }
   ],
   "source": [
    "###Split the data in train and test sets and the target in train_target and test_target (ratio 70%-30%)\n",
    "from sklearn.cross_validation import train_test_split\n",
    "train, test = train_test_split(data, train_size=0.70, random_state=0)\n",
    "\n",
    "train_target, test_target = train_test_split(target, train_size=0.70, random_state=0)\n",
    "\n",
    "## Hint : by using the keyword \"random_state=0\" when you call train_test_split\n",
    "##        you make sure that the splits are the same for both data and target\n",
    "###Import a decision tree and train it on the training set with the default settings\n",
    "\n",
    "np.shape(train), np.shape(test)"
   ]
  },
  {
   "cell_type": "code",
   "execution_count": 162,
   "metadata": {
    "collapsed": false
   },
   "outputs": [
    {
     "data": {
      "text/plain": [
       "((398,), (171,))"
      ]
     },
     "execution_count": 162,
     "metadata": {},
     "output_type": "execute_result"
    }
   ],
   "source": [
    "np.shape(train_target), np.shape(test_target)"
   ]
  },
  {
   "cell_type": "code",
   "execution_count": 163,
   "metadata": {
    "collapsed": false
   },
   "outputs": [
    {
     "data": {
      "text/plain": [
       "{'class_weight': None,\n",
       " 'criterion': 'gini',\n",
       " 'max_depth': None,\n",
       " 'max_features': None,\n",
       " 'max_leaf_nodes': None,\n",
       " 'min_samples_leaf': 1,\n",
       " 'min_samples_split': 2,\n",
       " 'min_weight_fraction_leaf': 0.0,\n",
       " 'presort': False,\n",
       " 'random_state': None,\n",
       " 'splitter': 'best'}"
      ]
     },
     "execution_count": 163,
     "metadata": {},
     "output_type": "execute_result"
    }
   ],
   "source": [
    "from sklearn import tree\n",
    "dtr = tree.DecisionTreeClassifier()\n",
    "dtr.get_params()"
   ]
  },
  {
   "cell_type": "code",
   "execution_count": 164,
   "metadata": {
    "collapsed": false
   },
   "outputs": [
    {
     "data": {
      "text/plain": [
       "DecisionTreeClassifier(class_weight=None, criterion='gini', max_depth=None,\n",
       "            max_features=None, max_leaf_nodes=None, min_samples_leaf=1,\n",
       "            min_samples_split=2, min_weight_fraction_leaf=0.0,\n",
       "            presort=False, random_state=None, splitter='best')"
      ]
     },
     "execution_count": 164,
     "metadata": {},
     "output_type": "execute_result"
    }
   ],
   "source": [
    "dtr.fit(train,train_target)\n",
    "###Compute the accuracy on the test set"
   ]
  },
  {
   "cell_type": "code",
   "execution_count": 165,
   "metadata": {
    "collapsed": false
   },
   "outputs": [
    {
     "name": "stdout",
     "output_type": "stream",
     "text": [
      "[0 1 1 1 1 1 1 1 1 1 0 1 1 0 1 0 1 0 0 0 0 0 1 1 0 1 1 0 1 0 1 0 1 0 1 0 1\n",
      " 0 1 0 0 1 0 1 1 0 1 1 1 0 0 0 0 1 1 1 0 1 0 0 0 0 1 1 0 0 0 0 0 1 1 0 1 1\n",
      " 0 1 1 1 1 1 0 0 0 1 0 1 1 1 0 0 1 0 1 0 1 1 0 0 1 1 1 1 1 0 0 1 0 1 0 1 1\n",
      " 0 0 1 1 1 0 1 1 1 1 1 0 1 0 0 1 1 1 1 0 1 1 1 1 1 1 0 0 1 1 1 0 1 1 0 1 0\n",
      " 1 1 1 0 0 0 1 0 1 1 1 0 0 1 0 0 1 0 0 0 1 1 1] \n",
      " accuracy == 0.906432748538\n"
     ]
    }
   ],
   "source": [
    "pred = dtr.predict(test)\n",
    "accuracy = dtr.score(test,test_target)\n",
    "print pred, '\\n accuracy ==', accuracy\n"
   ]
  },
  {
   "cell_type": "markdown",
   "metadata": {},
   "source": [
    "<p>The accuracy is simply giving you the amount of samples that have been correctly classified<br>\n",
    "Other methods to measure the quality of the classifier are available. For instance one can use the F1 score. F1 score use the <i>precision</i> and <i>recall</i> (see https://en.wikipedia.org/wiki/Precision_and_recall) to evaluate the quality of a classification.</p>"
   ]
  },
  {
   "cell_type": "code",
   "execution_count": 166,
   "metadata": {
    "collapsed": false
   },
   "outputs": [
    {
     "data": {
      "text/plain": [
       "0.92233009708737868"
      ]
     },
     "execution_count": 166,
     "metadata": {},
     "output_type": "execute_result"
    }
   ],
   "source": [
    "from sklearn.metrics import f1_score\n",
    "f1_score(test_target,pred,average='binary')\n"
   ]
  },
  {
   "cell_type": "markdown",
   "metadata": {},
   "source": [
    "<p>It is also possible to have the detail of precision and recall for both classes :</p>"
   ]
  },
  {
   "cell_type": "code",
   "execution_count": 167,
   "metadata": {
    "collapsed": false
   },
   "outputs": [
    {
     "name": "stdout",
     "output_type": "stream",
     "text": [
      "             precision    recall  f1-score   support\n",
      "\n",
      "  malignant       0.82      0.95      0.88        63\n",
      "     benign       0.97      0.88      0.92       108\n",
      "\n",
      "avg / total       0.92      0.91      0.91       171\n",
      "\n"
     ]
    }
   ],
   "source": [
    "from sklearn.metrics import classification_report\n",
    "print classification_report(test_target,pred,target_names=dataset.target_names)\n"
   ]
  },
  {
   "cell_type": "markdown",
   "metadata": {},
   "source": [
    "<p>We started this study by doing a random separation for the train/test sets. Actually all scores of tests performed so far depend on this separation.</p>\n",
    "\n",
    "<h4> <u>QUESTION 1 :</u> Explain why all scores are specific to our first sets split.</h4>\n",
    "<p><i>Type your answer here</i></p>\n",
    "<h4> Scores are specific to our first sets split because we supervise the algorithm. </h4>"
   ]
  },
  {
   "cell_type": "markdown",
   "metadata": {},
   "source": [
    "<h4>Cross Validation</h4>\n",
    "\n",
    "<p>Another way to evaluate the accuracy of a decision tree (and any method in general) is to use a cross validation technique :\n",
    "Basically it consists in first dividing the data set in <i>k</i> sets named <i>folds</i>, then train the classifier on <i>k-1</i> folds and evaluate the accuracy on the remaining fold.</p>\n",
    "<p>In scikit this can be done by using the <i>cross_val_score</i> function</p>"
   ]
  },
  {
   "cell_type": "code",
   "execution_count": 168,
   "metadata": {
    "collapsed": false
   },
   "outputs": [],
   "source": [
    "#When calling the cross_val_score it returns one score per fold\n",
    "#As by default the function uses a three-fold separation you have three value\n",
    "###Compute and print the mean and the standard deviation of the cross_val_score function\n",
    "\n",
    "from sklearn.cross_validation import cross_val_score\n",
    "from sklearn import svm"
   ]
  },
  {
   "cell_type": "code",
   "execution_count": 169,
   "metadata": {
    "collapsed": false
   },
   "outputs": [
    {
     "name": "stdout",
     "output_type": "stream",
     "text": [
      "[ 0.93684211  0.96842105  0.94708995] \n",
      " mean == 0.950784368328 \n",
      " standard_deviation == 0.0131540625015\n"
     ]
    }
   ],
   "source": [
    "cvs = svm.SVC(kernel='linear', C=1)\n",
    "scores = cross_val_score(cvs, dataset.data, dataset.target)\n",
    "print scores, '\\n mean ==', np.mean(scores), '\\n standard_deviation ==', np.std(scores)"
   ]
  },
  {
   "cell_type": "markdown",
   "metadata": {},
   "source": [
    "<p>Several techniques exist to divide the data set in folds (see http://scikit-learn.org/stable/modules/cross_validation.html for more details).</p>\n",
    "<p>Nonetheless, it is worth mentioning another technique : the ShuffleSplit. This technique generates a pre-defined number of independent train/test dataset splits. Samples are first shuffled and then split into a pair of train and test sets.</p>\n",
    "<p>This can be implemented as follow :</p>"
   ]
  },
  {
   "cell_type": "code",
   "execution_count": 170,
   "metadata": {
    "collapsed": false
   },
   "outputs": [
    {
     "name": "stdout",
     "output_type": "stream",
     "text": [
      "[ 0.97368421  0.96052632  0.95614035  0.94298246  0.95614035] \n",
      " mean == 0.957894736842 \n",
      " standard_deviation == 0.0098464668073\n"
     ]
    }
   ],
   "source": [
    "from sklearn.cross_validation import ShuffleSplit\n",
    "cv_ss = ShuffleSplit(data.shape[0],n_iter=5,test_size=0.4,random_state=0)\n",
    "\n",
    "###Use again the cross_val_score function and set \"cv=cv_ss\"\n",
    "score = cross_val_score(cvs, dataset.data, dataset.target, cv=cv_ss)\n",
    "###Compute again the mean and the standard deviation of the output\n",
    "print score, '\\n mean ==', np.mean(score), '\\n standard_deviation ==', np.std(score)\n"
   ]
  },
  {
   "cell_type": "markdown",
   "metadata": {},
   "source": [
    "<h4> <u>QUESTION 2 :</u> Are results very different?<h4>\n",
    "<p><i>Type your answer here</i></p>\n",
    "<h4> Yes, results are very different by standard deviation values  <h4>\n",
    "\n",
    "<h3>Finding Optimal Parameters</h3>\n",
    "\n",
    "<p>In the previous section we have use the default settings for our classifiers but this is usually not necessarily the most optimal choice.</p>\n",
    "<p>In this section we will introduce tools to find good parameters value.</p>\n",
    "\n",
    "<h4>Grid Search - a brute force approach</h4>\n",
    "<p>A decision tree has several parameters we can change to optimize the classification. Scikit offers the possibility to investigate several parameters using <i>GridSearchCV</i>. You simply need to define a \"parameter grid\" (a dictionary in python) that defines the parameters values you want to try and feed it to a GridSearchCV object :</p>"
   ]
  },
  {
   "cell_type": "code",
   "execution_count": 171,
   "metadata": {
    "collapsed": false
   },
   "outputs": [
    {
     "data": {
      "text/plain": [
       "GridSearchCV(cv=3, error_score='raise',\n",
       "       estimator=DecisionTreeClassifier(class_weight=None, criterion='gini', max_depth=None,\n",
       "            max_features=None, max_leaf_nodes=None, min_samples_leaf=1,\n",
       "            min_samples_split=2, min_weight_fraction_leaf=0.0,\n",
       "            presort=False, random_state=None, splitter='best'),\n",
       "       fit_params={}, iid=True, n_jobs=1,\n",
       "       param_grid={'splitter': ['best'], 'random_state': [0], 'criterion': ['entropy', 'gini']},\n",
       "       pre_dispatch='2*n_jobs', refit=True, scoring=None, verbose=0)"
      ]
     },
     "execution_count": 171,
     "metadata": {},
     "output_type": "execute_result"
    }
   ],
   "source": [
    "from sklearn.grid_search import GridSearchCV\n",
    "###Example of a parameter grid dictionary, run it once and then include more parameters in p_grid\n",
    "p_grid=dict({'criterion':['entropy','gini'],'random_state':[0],'splitter':['best']})\n",
    "#grd = GridSearchCV(<classifier>,cv=3,param_grid=<dictionary of parameters to investigate>)\n",
    "#grd.fit(<training set>,<train set targets>)\n",
    "grd = GridSearchCV(dtr,cv=3,param_grid=p_grid)\n",
    "grd.fit(train,train_target)"
   ]
  },
  {
   "cell_type": "code",
   "execution_count": 172,
   "metadata": {
    "collapsed": false
   },
   "outputs": [
    {
     "name": "stdout",
     "output_type": "stream",
     "text": [
      "[0 1 1 1 1 1 1 1 1 1 1 1 1 0 1 0 1 0 0 0 0 0 1 1 0 1 1 0 1 0 1 0 1 0 1 0 1\n",
      " 0 1 0 0 1 0 1 1 0 1 0 1 0 0 0 1 1 1 1 1 1 1 0 0 0 1 1 0 1 0 0 0 1 0 0 1 1\n",
      " 0 1 1 1 1 1 0 0 0 1 0 1 1 1 0 0 1 0 0 0 1 1 0 1 1 1 1 1 1 1 0 1 0 1 0 1 1\n",
      " 0 0 0 1 1 1 1 0 1 1 1 0 1 0 1 1 1 1 1 0 1 1 1 1 1 1 0 0 1 1 1 0 1 1 0 1 0\n",
      " 1 1 1 1 1 0 1 0 1 0 1 0 0 1 0 0 1 0 0 0 1 1 1] \n",
      " accu == 0.93567251462\n"
     ]
    }
   ],
   "source": [
    "predi= grd.predict(test)\n",
    "accu = grd.score(test,test_target)\n",
    "print predi, '\\n accu ==', accu"
   ]
  },
  {
   "cell_type": "markdown",
   "metadata": {},
   "source": [
    "<h4> <u>QUESTION 2 :</u> What does the \"CV\" at the end of GridSearchCV stands for? What is it telling you?</h4>\n",
    "<p><i>Type your answer here</i></p>\n",
    "<h4>  CV stands for Cross Validation, it gives information about the number of parts the data is divided. </h4>"
   ]
  },
  {
   "cell_type": "code",
   "execution_count": 173,
   "metadata": {
    "collapsed": false
   },
   "outputs": [
    {
     "data": {
      "text/plain": [
       "{'criterion': 'entropy', 'random_state': 0, 'splitter': 'best'}"
      ]
     },
     "execution_count": 173,
     "metadata": {},
     "output_type": "execute_result"
    }
   ],
   "source": [
    "#You can ask for the best parameters found by running the following command\n",
    "grd.best_params_"
   ]
  },
  {
   "cell_type": "code",
   "execution_count": 174,
   "metadata": {
    "collapsed": false
   },
   "outputs": [
    {
     "data": {
      "text/plain": [
       "DecisionTreeClassifier(class_weight=None, criterion='entropy', max_depth=None,\n",
       "            max_features=None, max_leaf_nodes=None, min_samples_leaf=1,\n",
       "            min_samples_split=2, min_weight_fraction_leaf=0.0,\n",
       "            presort=False, random_state=0, splitter='best')"
      ]
     },
     "execution_count": 174,
     "metadata": {},
     "output_type": "execute_result"
    }
   ],
   "source": [
    "#And creat directly a new classifier with the optimal parameters by running\n",
    "new_dtr = grd.best_estimator_\n",
    "new_dtr\n",
    "###Check the \"new_dtr\" parameters"
   ]
  },
  {
   "cell_type": "code",
   "execution_count": 175,
   "metadata": {
    "collapsed": false
   },
   "outputs": [
    {
     "data": {
      "text/plain": [
       "DecisionTreeClassifier(class_weight=None, criterion='entropy', max_depth=None,\n",
       "            max_features=None, max_leaf_nodes=None, min_samples_leaf=1,\n",
       "            min_samples_split=2, min_weight_fraction_leaf=0.0,\n",
       "            presort=False, random_state=0, splitter='best')"
      ]
     },
     "execution_count": 175,
     "metadata": {},
     "output_type": "execute_result"
    }
   ],
   "source": [
    "###Now train the new classifier\n",
    "new_dtr.fit(train,train_target)"
   ]
  },
  {
   "cell_type": "code",
   "execution_count": 176,
   "metadata": {
    "collapsed": false
   },
   "outputs": [
    {
     "name": "stdout",
     "output_type": "stream",
     "text": [
      "[0 1 1 1 1 1 1 1 1 1 1 1 1 0 1 0 1 0 0 0 0 0 1 1 0 1 1 0 1 0 1 0 1 0 1 0 1\n",
      " 0 1 0 0 1 0 1 1 0 1 0 1 0 0 0 1 1 1 1 1 1 1 0 0 0 1 1 0 1 0 0 0 1 0 0 1 1\n",
      " 0 1 1 1 1 1 0 0 0 1 0 1 1 1 0 0 1 0 0 0 1 1 0 1 1 1 1 1 1 1 0 1 0 1 0 1 1\n",
      " 0 0 0 1 1 1 1 0 1 1 1 0 1 0 1 1 1 1 1 0 1 1 1 1 1 1 0 0 1 1 1 0 1 1 0 1 0\n",
      " 1 1 1 1 1 0 1 0 1 0 1 0 0 1 0 0 1 0 0 0 1 1 1] \n",
      " acc == 0.93567251462\n"
     ]
    }
   ],
   "source": [
    "###Compute its accuracy\n",
    "pre = new_dtr.predict(test)\n",
    "acc = new_dtr.score(test,test_target)\n",
    "print pre, '\\n acc ==', acc"
   ]
  },
  {
   "cell_type": "code",
   "execution_count": 177,
   "metadata": {
    "collapsed": false
   },
   "outputs": [
    {
     "name": "stdout",
     "output_type": "stream",
     "text": [
      "             precision    recall  f1-score   support\n",
      "\n",
      "  malignant       0.88      0.95      0.92        63\n",
      "     benign       0.97      0.93      0.95       108\n",
      "\n",
      "avg / total       0.94      0.94      0.94       171\n",
      "\n"
     ]
    }
   ],
   "source": [
    "###print the classification report\n",
    "print classification_report(test_target,pre,target_names=dataset.target_names)"
   ]
  },
  {
   "cell_type": "markdown",
   "metadata": {},
   "source": [
    "<h4>Learning and Validation Curves</h4>\n",
    "<p> Scikit provides additional tools to tune our algorithm.<br>\n",
    "One useful tool is the learning curve. It gives the cross-validated training and test scores for different training sets sizes.\n",
    "We can use it on the previously defined new classifier \"new_dtr\" :</p>"
   ]
  },
  {
   "cell_type": "code",
   "execution_count": 179,
   "metadata": {
    "collapsed": false
   },
   "outputs": [
    {
     "name": "stdout",
     "output_type": "stream",
     "text": [
      "n_train == [ 26  53  79 185] \n",
      " train_score ==  [[ 1.  1.  1.]\n",
      " [ 1.  1.  1.]\n",
      " [ 1.  1.  1.]\n",
      " [ 1.  1.  1.]] \n",
      " test_score ==  [[ 0.84962406  0.93984962  0.87878788]\n",
      " [ 0.88721805  0.90977444  0.90151515]\n",
      " [ 0.93233083  0.92481203  0.93181818]\n",
      " [ 0.93233083  0.89473684  0.92424242]]\n"
     ]
    }
   ],
   "source": [
    "from sklearn.learning_curve import learning_curve\n",
    "\n",
    "###Compute the learning curve\n",
    "n_train, train_score, test_score = learning_curve(new_dtr,train,train_target,train_sizes=np.array([0.70, 0.30, 0.10,0.2]),cv=3)\n",
    "#The list of training sizes can be absolute numbers or amount if between (0,1]\n",
    "\n",
    "###Visualize the learning curve (don't forget labels, title,legend,etc)\n",
    "\n",
    "#You should see why I chose a 70%-30% ratio\n",
    "print 'n_train ==',n_train, '\\n train_score == ', train_score, '\\n test_score == ', test_score"
   ]
  },
  {
   "cell_type": "code",
   "execution_count": 180,
   "metadata": {
    "collapsed": false
   },
   "outputs": [
    {
     "data": {
      "text/plain": [
       "<matplotlib.legend.Legend at 0x7f6a39c16610>"
      ]
     },
     "execution_count": 180,
     "metadata": {},
     "output_type": "execute_result"
    },
    {
     "data": {
      "image/png": "[encoded data removed]",
      "text/plain": [
       "<matplotlib.figure.Figure at 0x7f6a39ce46d0>"
      ]
     },
     "metadata": {},
     "output_type": "display_data"
    }
   ],
   "source": [
    "plt.figure()\n",
    "plt.plot(n_train, 'o-', color=\"r\",label=\"number of train\")\n",
    "plt.title('Learning Curve')\n",
    "plt.legend('number of train')"
   ]
  },
  {
   "cell_type": "code",
   "execution_count": 181,
   "metadata": {
    "collapsed": false
   },
   "outputs": [
    {
     "data": {
      "text/plain": [
       "<matplotlib.legend.Legend at 0x7f6a39b5b810>"
      ]
     },
     "execution_count": 181,
     "metadata": {},
     "output_type": "execute_result"
    },
    {
     "data": {
      "image/png": "[encoded data removed]",
      "text/plain": [
       "<matplotlib.figure.Figure at 0x7f6a3a0d6f10>"
      ]
     },
     "metadata": {},
     "output_type": "display_data"
    }
   ],
   "source": [
    "plt.plot(test_score, 'o-', color=\"y\",label=\"Test score\")\n",
    "plt.title('Learning Curve')\n",
    "plt.legend('Test score')"
   ]
  },
  {
   "cell_type": "code",
   "execution_count": 182,
   "metadata": {
    "collapsed": false
   },
   "outputs": [
    {
     "data": {
      "text/plain": [
       "<matplotlib.legend.Legend at 0x7f6a39aaa090>"
      ]
     },
     "execution_count": 182,
     "metadata": {},
     "output_type": "execute_result"
    },
    {
     "data": {
      "image/png": "[encoded data removed]",
      "text/plain": [
       "<matplotlib.figure.Figure at 0x7f6a39f0c890>"
      ]
     },
     "metadata": {},
     "output_type": "display_data"
    }
   ],
   "source": [
    "plt.plot(train_score, 'o-', color=\"g\",label=\"Training score\")\n",
    "plt.title('Learning Curve')\n",
    "plt.legend('Training score')"
   ]
  },
  {
   "cell_type": "markdown",
   "metadata": {},
   "source": [
    "<h4> <u>QUESTION 3 :</u> Why isn't the training score equal to one?</h4>\n",
    "<p><i>Type your answer here</i></p>\n",
    "<h4> It is equal to one here.</h4>\n",
    "<p>A second tool meant to investigate a specific parameter influence on scores is the <i>validation curve</i>. It is basically like a gridsearch with a single parameter. </p>"
   ]
  },
  {
   "cell_type": "code",
   "execution_count": 183,
   "metadata": {
    "collapsed": false
   },
   "outputs": [
    {
     "data": {
      "text/plain": [
       "<matplotlib.legend.Legend at 0x7f6a399edc50>"
      ]
     },
     "execution_count": 183,
     "metadata": {},
     "output_type": "execute_result"
    },
    {
     "data": {
      "image/png": "[encoded data removed]",
      "text/plain": [
       "<matplotlib.figure.Figure at 0x7f6a39ae04d0>"
      ]
     },
     "metadata": {},
     "output_type": "display_data"
    }
   ],
   "source": [
    "from sklearn.learning_curve import validation_curve\n",
    "\n",
    "#Just an example\n",
    "train_score,test_score = validation_curve(new_dtr,data,target,param_name='max_depth',param_range=np.arange(2,8),cv=3)\n",
    "\n",
    "###Plot the validation curve\n",
    "plt.plot(train_score, 'o-', color=\"g\",label=\"Training score\")\n",
    "plt.title('Validatio Curve')\n",
    "plt.legend('Training score')"
   ]
  },
  {
   "cell_type": "code",
   "execution_count": 184,
   "metadata": {
    "collapsed": false
   },
   "outputs": [
    {
     "data": {
      "text/plain": [
       "<matplotlib.legend.Legend at 0x7f6a398bd850>"
      ]
     },
     "execution_count": 184,
     "metadata": {},
     "output_type": "execute_result"
    },
    {
     "data": {
      "image/png": "[encoded data removed]",
      "text/plain": [
       "<matplotlib.figure.Figure at 0x7f6a39a6fa90>"
      ]
     },
     "metadata": {},
     "output_type": "display_data"
    }
   ],
   "source": [
    "plt.plot(test_score, 'o-', color=\"b\",label=\"Test score\")\n",
    "plt.title('Validation Curve')\n",
    "plt.legend('Test score')"
   ]
  },
  {
   "cell_type": "markdown",
   "metadata": {},
   "source": [
    "<h3>Application - Evaluating the Random Forest classifier and the SVC</h3>\n",
    "\n",
    "<p>In the following you will apply the evaluation and optimization tools to compare the Random Forest technique and the SVC technique.</p>"
   ]
  },
  {
   "cell_type": "code",
   "execution_count": 185,
   "metadata": {
    "collapsed": false
   },
   "outputs": [
    {
     "data": {
      "text/plain": [
       "RandomForestClassifier(bootstrap=True, class_weight=None, criterion='gini',\n",
       "            max_depth=None, max_features='auto', max_leaf_nodes=None,\n",
       "            min_samples_leaf=1, min_samples_split=2,\n",
       "            min_weight_fraction_leaf=0.0, n_estimators=10, n_jobs=1,\n",
       "            oob_score=False, random_state=None, verbose=0,\n",
       "            warm_start=False)"
      ]
     },
     "execution_count": 185,
     "metadata": {},
     "output_type": "execute_result"
    }
   ],
   "source": [
    "###Import the \"RandomForestClassifier\" classifier\n",
    "from sklearn.ensemble import RandomForestClassifier\n",
    "###Train it on the training set\n",
    "rfc = RandomForestClassifier()\n",
    "rfc.fit(train,train_target)"
   ]
  },
  {
   "cell_type": "code",
   "execution_count": 186,
   "metadata": {
    "collapsed": false
   },
   "outputs": [
    {
     "data": {
      "text/plain": [
       "['warm_start',\n",
       " 'oob_score',\n",
       " 'n_jobs',\n",
       " 'verbose',\n",
       " 'max_leaf_nodes',\n",
       " 'bootstrap',\n",
       " 'min_samples_leaf',\n",
       " 'n_estimators',\n",
       " 'min_samples_split',\n",
       " 'min_weight_fraction_leaf',\n",
       " 'criterion',\n",
       " 'random_state',\n",
       " 'max_features',\n",
       " 'max_depth',\n",
       " 'class_weight']"
      ]
     },
     "execution_count": 186,
     "metadata": {},
     "output_type": "execute_result"
    }
   ],
   "source": [
    "rfc.get_params().keys()"
   ]
  },
  {
   "cell_type": "code",
   "execution_count": 187,
   "metadata": {
    "collapsed": false
   },
   "outputs": [
    {
     "data": {
      "text/plain": [
       "SVC(C=1.0, cache_size=200, class_weight=None, coef0=0.0,\n",
       "  decision_function_shape=None, degree=3, gamma='auto', kernel='rbf',\n",
       "  max_iter=-1, probability=False, random_state=None, shrinking=True,\n",
       "  tol=0.001, verbose=False)"
      ]
     },
     "execution_count": 187,
     "metadata": {},
     "output_type": "execute_result"
    }
   ],
   "source": [
    "###Import the \"SVC\" classifier\n",
    "from sklearn.svm import SVC\n",
    "###Train it on the training set  (don't forget to scale it!)\n",
    "svc = SVC()\n",
    "svc.fit(train,train_target)"
   ]
  },
  {
   "cell_type": "markdown",
   "metadata": {},
   "source": [
    "<p>Before evaluating the performance of both classifiers we will first determine the best values for their parameters</p>"
   ]
  },
  {
   "cell_type": "code",
   "execution_count": 188,
   "metadata": {
    "collapsed": false
   },
   "outputs": [
    {
     "data": {
      "text/plain": [
       "GridSearchCV(cv=3, error_score='raise',\n",
       "       estimator=RandomForestClassifier(bootstrap=True, class_weight=None, criterion='gini',\n",
       "            max_depth=None, max_features='auto', max_leaf_nodes=None,\n",
       "            min_samples_leaf=1, min_samples_split=2,\n",
       "            min_weight_fraction_leaf=0.0, n_estimators=10, n_jobs=1,\n",
       "            oob_score=False, random_state=None, verbose=0,\n",
       "            warm_start=False),\n",
       "       fit_params={}, iid=True, n_jobs=1,\n",
       "       param_grid={'random_state': [0], 'criterion': ['entropy', 'gini']},\n",
       "       pre_dispatch='2*n_jobs', refit=True, scoring=None, verbose=0)"
      ]
     },
     "execution_count": 188,
     "metadata": {},
     "output_type": "execute_result"
    }
   ],
   "source": [
    "###Using the grid search optimize the Random Forest Classifier\n",
    "pa_grid=dict({'criterion':['entropy','gini'],'random_state':[0]})\n",
    "grdrfc = GridSearchCV(rfc,cv=3,param_grid=pa_grid)\n",
    "grdrfc.fit(train,train_target)\n"
   ]
  },
  {
   "cell_type": "code",
   "execution_count": 189,
   "metadata": {
    "collapsed": false
   },
   "outputs": [
    {
     "data": {
      "text/plain": [
       "RandomForestClassifier(bootstrap=True, class_weight=None, criterion='entropy',\n",
       "            max_depth=None, max_features='auto', max_leaf_nodes=None,\n",
       "            min_samples_leaf=1, min_samples_split=2,\n",
       "            min_weight_fraction_leaf=0.0, n_estimators=10, n_jobs=1,\n",
       "            oob_score=False, random_state=0, verbose=0, warm_start=False)"
      ]
     },
     "execution_count": 189,
     "metadata": {},
     "output_type": "execute_result"
    }
   ],
   "source": [
    "###Create a new Random Forest Classifier using the best parameters found\n",
    "new_rfc = grdrfc.best_estimator_\n",
    "new_rfc"
   ]
  },
  {
   "cell_type": "code",
   "execution_count": 190,
   "metadata": {
    "collapsed": false
   },
   "outputs": [
    {
     "data": {
      "text/plain": [
       "['kernel',\n",
       " 'C',\n",
       " 'verbose',\n",
       " 'probability',\n",
       " 'degree',\n",
       " 'shrinking',\n",
       " 'max_iter',\n",
       " 'decision_function_shape',\n",
       " 'random_state',\n",
       " 'tol',\n",
       " 'cache_size',\n",
       " 'coef0',\n",
       " 'gamma',\n",
       " 'class_weight']"
      ]
     },
     "execution_count": 190,
     "metadata": {},
     "output_type": "execute_result"
    }
   ],
   "source": [
    "svc.get_params().keys()"
   ]
  },
  {
   "cell_type": "code",
   "execution_count": 191,
   "metadata": {
    "collapsed": false
   },
   "outputs": [
    {
     "data": {
      "text/plain": [
       "GridSearchCV(cv=3, error_score='raise',\n",
       "       estimator=SVC(C=1.0, cache_size=200, class_weight=None, coef0=0.0,\n",
       "  decision_function_shape=None, degree=3, gamma='auto', kernel='rbf',\n",
       "  max_iter=-1, probability=False, random_state=None, shrinking=True,\n",
       "  tol=0.001, verbose=False),\n",
       "       fit_params={}, iid=True, n_jobs=1, param_grid={'random_state': [0]},\n",
       "       pre_dispatch='2*n_jobs', refit=True, scoring=None, verbose=0)"
      ]
     },
     "execution_count": 191,
     "metadata": {},
     "output_type": "execute_result"
    }
   ],
   "source": [
    "###Using the grid search optimize the SVC Classifier\n",
    "#(!don't forget to scale the data!)\n",
    "par_grid=dict({'random_state':[0]})\n",
    "grdSVC = GridSearchCV(svc,cv=3,param_grid=par_grid)\n",
    "grdSVC.fit(train,train_target)\n"
   ]
  },
  {
   "cell_type": "code",
   "execution_count": 133,
   "metadata": {
    "collapsed": false
   },
   "outputs": [
    {
     "data": {
      "text/plain": [
       "SVC(C=1.0, cache_size=200, class_weight=None, coef0=0.0,\n",
       "  decision_function_shape=None, degree=3, gamma='auto', kernel='rbf',\n",
       "  max_iter=-1, probability=False, random_state=0, shrinking=True,\n",
       "  tol=0.001, verbose=False)"
      ]
     },
     "execution_count": 133,
     "metadata": {},
     "output_type": "execute_result"
    }
   ],
   "source": [
    "###Create a new SVC Classifier using the best parameters found\n",
    "new_SVC = grdSVC.best_estimator_\n",
    "new_SVC"
   ]
  },
  {
   "cell_type": "markdown",
   "metadata": {},
   "source": [
    "<p>Now we have optimized out two classifier we can compare how they perform</p>"
   ]
  },
  {
   "cell_type": "code",
   "execution_count": 134,
   "metadata": {
    "collapsed": false
   },
   "outputs": [
    {
     "name": "stdout",
     "output_type": "stream",
     "text": [
      "Scores for new-rfc = [ 0.94736842  0.95789474  0.95238095] \n",
      " mean == 0.952548036759 \n",
      " standard_deviation == 0.00429897421229\n"
     ]
    }
   ],
   "source": [
    "###Compute and the accuracy of both classifiers on the training set using the cross_val_score\n",
    "# (!scale for SVC!)\n",
    "\n",
    "scores = cross_val_score(new_rfc, dataset.data, dataset.target)\n",
    "print 'Scores for new-rfc =', scores, '\\n mean ==', np.mean(scores), '\\n standard_deviation ==', np.std(scores)\n",
    "#Print the results (average and std)"
   ]
  },
  {
   "cell_type": "code",
   "execution_count": 135,
   "metadata": {
    "collapsed": false
   },
   "outputs": [
    {
     "name": "stdout",
     "output_type": "stream",
     "text": [
      "Scores for new-SVC = [ 0.62631579  0.62631579  0.62962963] \n",
      " mean == 0.627420402859 \n",
      " standard_deviation == 0.00156215923069\n"
     ]
    }
   ],
   "source": [
    "scores = cross_val_score(new_SVC, dataset.data, dataset.target)\n",
    "print 'Scores for new-SVC =', scores, '\\n mean ==', np.mean(scores), '\\n standard_deviation ==', np.std(scores)"
   ]
  },
  {
   "cell_type": "code",
   "execution_count": 192,
   "metadata": {
    "collapsed": false
   },
   "outputs": [
    {
     "data": {
      "text/plain": [
       "SVC(C=1.0, cache_size=200, class_weight=None, coef0=0.0,\n",
       "  decision_function_shape=None, degree=3, gamma='auto', kernel='rbf',\n",
       "  max_iter=-1, probability=False, random_state=0, shrinking=True,\n",
       "  tol=0.001, verbose=False)"
      ]
     },
     "execution_count": 192,
     "metadata": {},
     "output_type": "execute_result"
    }
   ],
   "source": [
    "new_rfc.fit(train,train_target)\n",
    "new_SVC.fit(train,train_target)"
   ]
  },
  {
   "cell_type": "markdown",
   "metadata": {},
   "source": [
    "<h4> <u>QUESTION 4 :</u> Which classifier gives the best accuracy?</h4>\n",
    "<p><i>Type your answer here</i></p>\n",
    "<h4> The SVC Classifier </h4>"
   ]
  },
  {
   "cell_type": "code",
   "execution_count": 193,
   "metadata": {
    "collapsed": false
   },
   "outputs": [
    {
     "name": "stdout",
     "output_type": "stream",
     "text": [
      "             precision    recall  f1-score   support\n",
      "\n",
      "  malignant       0.92      0.95      0.94        63\n",
      "     benign       0.97      0.95      0.96       108\n",
      "\n",
      "avg / total       0.95      0.95      0.95       171\n",
      "\n"
     ]
    }
   ],
   "source": [
    "###Print the Classification report for the Random Forest Classifier\n",
    "pre_a = new_rfc.predict(test)\n",
    "print classification_report(test_target,pre_a,target_names=dataset.target_names)"
   ]
  },
  {
   "cell_type": "code",
   "execution_count": 194,
   "metadata": {
    "collapsed": false
   },
   "outputs": [
    {
     "name": "stdout",
     "output_type": "stream",
     "text": [
      "             precision    recall  f1-score   support\n",
      "\n",
      "  malignant       0.98      0.95      0.97        63\n",
      "     benign       0.97      0.99      0.98       108\n",
      "\n",
      "avg / total       0.98      0.98      0.98       171\n",
      "\n"
     ]
    }
   ],
   "source": [
    "###Do the same for the SVC classifier\n",
    "pre1 = new_SVC.predict(test)\n",
    "print classification_report(test_target,pre1,target_names=dataset.target_names)"
   ]
  },
  {
   "cell_type": "markdown",
   "metadata": {},
   "source": [
    "<h4> <u>QUESTION 5 :</u> Analyze the last two classification reports.</h4>\n",
    "<p><i>Type your answer here</i></p>\n",
    "<h4> Here, we the SVC report's 'avg/total' is stable comparing to the new_rfc report. The analyse gives that the  is second more accuate than than the first. </h4>\n",
    "<h4> <u>QUESTION 6 :</u> Recall the classification report from the optimized decision tree to conclude on the best algorithm to chose to efficiently detect malignant masses.</h4>\n",
    "<p><i>Type your answer here</i></p>\n",
    "<h4> Study shows that  SVC Classifier is the best of both all the two others comparing the results of classification report.  </h4>\n",
    "<h4> <u>BONUS :</u> Repeat the optimization and evalution procedure with the k-nearest neighbors approach.</h4>\n",
    "<p><i>Type your answer here</i></p>\n",
    "<h4> Ok, we find the SVC is always better than KNeighbors too. </h4>"
   ]
  },
  {
   "cell_type": "code",
   "execution_count": 195,
   "metadata": {
    "collapsed": false
   },
   "outputs": [
    {
     "name": "stdout",
     "output_type": "stream",
     "text": [
      "             precision    recall  f1-score   support\n",
      "\n",
      "  malignant       0.91      0.97      0.94        63\n",
      "     benign       0.98      0.94      0.96       108\n",
      "\n",
      "avg / total       0.95      0.95      0.95       171\n",
      "\n"
     ]
    }
   ],
   "source": [
    "#Recall optimized decision tree\n",
    "pre = new_dtr.predict(test)\n",
    "print classification_report(test_target,pre,target_names=dataset.target_names)"
   ]
  },
  {
   "cell_type": "code",
   "execution_count": 196,
   "metadata": {
    "collapsed": true
   },
   "outputs": [],
   "source": [
    "from sklearn.neighbors import KNeighborsClassifier\n",
    "knn = KNeighborsClassifier()"
   ]
  },
  {
   "cell_type": "code",
   "execution_count": 197,
   "metadata": {
    "collapsed": false
   },
   "outputs": [
    {
     "data": {
      "text/plain": [
       "KNeighborsClassifier(algorithm='auto', leaf_size=30, metric='minkowski',\n",
       "           metric_params=None, n_jobs=1, n_neighbors=5, p=2,\n",
       "           weights='uniform')"
      ]
     },
     "execution_count": 197,
     "metadata": {},
     "output_type": "execute_result"
    }
   ],
   "source": [
    "knn.fit(train,train_target)"
   ]
  },
  {
   "cell_type": "code",
   "execution_count": 198,
   "metadata": {
    "collapsed": false
   },
   "outputs": [
    {
     "data": {
      "text/plain": [
       "0.95906432748538006"
      ]
     },
     "execution_count": 198,
     "metadata": {},
     "output_type": "execute_result"
    }
   ],
   "source": [
    "pr = knn.predict(test)\n",
    "accknn = knn.score(test,test_target)\n",
    "accknn"
   ]
  },
  {
   "cell_type": "code",
   "execution_count": 199,
   "metadata": {
    "collapsed": false
   },
   "outputs": [],
   "source": [
    "para_grid=dict({'algorithm':['auto','brute']})\n",
    "grdknn = GridSearchCV(knn,cv=3,param_grid=para_grid)\n"
   ]
  },
  {
   "cell_type": "code",
   "execution_count": 200,
   "metadata": {
    "collapsed": false
   },
   "outputs": [
    {
     "data": {
      "text/plain": [
       "0.95906432748538006"
      ]
     },
     "execution_count": 200,
     "metadata": {},
     "output_type": "execute_result"
    }
   ],
   "source": [
    "grdknn.fit(train,train_target)\n",
    "pr1 = grdknn.predict(test)\n",
    "accgrdknn = grdknn.score(test,test_target)\n",
    "accgrdknn\n"
   ]
  },
  {
   "cell_type": "code",
   "execution_count": 201,
   "metadata": {
    "collapsed": false
   },
   "outputs": [
    {
     "name": "stdout",
     "output_type": "stream",
     "text": [
      "             precision    recall  f1-score   support\n",
      "\n",
      "  malignant       0.98      0.90      0.94        63\n",
      "     benign       0.95      0.99      0.97       108\n",
      "\n",
      "avg / total       0.96      0.96      0.96       171\n",
      "\n"
     ]
    }
   ],
   "source": [
    "print classification_report(test_target,pr1,target_names=dataset.target_names)"
   ]
  }
 ],
 "metadata": {
  "kernelspec": {
   "display_name": "Python 2",
   "language": "python",
   "name": "python2"
  },
  "language_info": {
   "codemirror_mode": {
    "name": "ipython",
    "version": 2
   },
   "file_extension": ".py",
   "mimetype": "text/x-python",
   "name": "python",
   "nbconvert_exporter": "python",
   "pygments_lexer": "ipython2",
   "version": "2.7.6"
  }
 },
 "nbformat": 4,
 "nbformat_minor": 0
}
